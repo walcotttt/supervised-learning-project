{
 "cells": [
  {
   "cell_type": "markdown",
   "metadata": {},
   "source": [
    "## Data Cleaning, Wrangling, and Pre-Processing"
   ]
  },
  {
   "cell_type": "code",
   "execution_count": 1,
   "metadata": {},
   "outputs": [],
   "source": [
    "# import modules\n",
    "\n",
    "import pandas as pd\n",
    "import numpy as np\n"
   ]
  },
  {
   "cell_type": "code",
   "execution_count": 2,
   "metadata": {},
   "outputs": [],
   "source": [
    "# load in dataset\n",
    "df = pd.read_csv(\"data.csv\")\n",
    "\n",
    "# sample dataset\n",
    "df_sample = df.sample(n=1000000)"
   ]
  },
  {
   "cell_type": "code",
   "execution_count": 4,
   "metadata": {},
   "outputs": [],
   "source": [
    "# removing unnecessary columns\n",
    "to_drop = ['step',\n",
    "           'nameOrig',\n",
    "           'nameDest',\n",
    "           'isFraud']\n",
    "\n",
    "df_sample.drop(to_drop, inplace=True, axis=1)"
   ]
  },
  {
   "cell_type": "code",
   "execution_count": 10,
   "metadata": {},
   "outputs": [],
   "source": [
    "# renaming columns \n",
    "new_names =  {'oldbalanceOrg': 'origin_start_balance',\n",
    "              'newbalanceOrig': 'origin_final_balance',\n",
    "              'oldbalanceDest': 'dest_start_balance',\n",
    "              'newbalanceDest': 'dest_final_balance',\n",
    "              'isFraud': 'fraud'}\n",
    "\n",
    "df_sample.rename(columns=new_names, inplace=True)"
   ]
  }
 ],
 "metadata": {
  "kernelspec": {
   "display_name": "phase1",
   "language": "python",
   "name": "python3"
  },
  "language_info": {
   "codemirror_mode": {
    "name": "ipython",
    "version": 3
   },
   "file_extension": ".py",
   "mimetype": "text/x-python",
   "name": "python",
   "nbconvert_exporter": "python",
   "pygments_lexer": "ipython3",
   "version": "3.9.18"
  },
  "orig_nbformat": 4
 },
 "nbformat": 4,
 "nbformat_minor": 2
}
